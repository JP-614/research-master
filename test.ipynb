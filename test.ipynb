{
 "cells": [
  {
   "cell_type": "code",
   "execution_count": null,
   "id": "f8f60509",
   "metadata": {},
   "outputs": [],
   "source": [
    "# -*- coding: utf-8 -*-\n",
    "import tensorflow as tf\n",
    "from tensorflow.keras.layers import Input, Dense\n",
    "from tensorflow.keras.optimizers import Adam\n",
    "import gym\n",
    "import numpy as np\n",
    "import os\n",
    "import warnings\n",
    "warnings.filterwarnings(\"ignore\", category=DeprecationWarning)\n",
    "\n",
    "class Agent(object):\n",
    "    def __init__(self):\n",
    "        \n",
    "        self.env = gym.make('CartPole-v1')\n",
    "        self.state_size = self.env.observation_space.shape[0]\n",
    "        self.action_size = self.env.action_space.n\n",
    "\n",
    "        self.node_num = 12\n",
    "        self.learning_rate = 0.0005\n",
    "        self.model = self.build_model()        \n",
    "\n",
    "        self.discount_rate = 0.95\n",
    "        self.penalty = -10\n",
    "        \n",
    "        self.episode_num = 500\n",
    "        \n",
    "        self.moving_avg_size = 20\n",
    "        self.reward_list = []\n",
    "        self.count_list = []\n",
    "        self.moving_avg_list = []\n",
    "\n",
    "        self.states = []\n",
    "        self.actions = []\n",
    "        self.rewards = []\n",
    "\n",
    "    def build_model(self):\n",
    "        input_states = Input(shape=(self.state_size,), name='input_states') #(1) 입력층 정의\n",
    "        x = Dense(self.node_num, activation='tanh')(input_states) #(2) 은닉층 정의\n",
    "        out_actions = Dense(self.action_size, activation='softmax', name='output')(x) #(3) 출력층 정의\n",
    "\n",
    "        #(4) 모델생성 및 컴파일\n",
    "        model = tf.keras.models.Model(inputs=input_states, outputs=out_actions)\n",
    "        model.compile(optimizer=Adam(learning_rate=self.learning_rate),\n",
    "                      loss='mean_squared_error')\n",
    "        \n",
    "        #(5) 모델 구조 요약 및 반환\n",
    "        model.summary()\n",
    "        return model"
   ]
  },
  {
   "cell_type": "code",
   "execution_count": 9,
   "id": "0d19cbd4",
   "metadata": {},
   "outputs": [
    {
     "name": "stdout",
     "output_type": "stream",
     "text": [
      "Model: \"model_4\"\n",
      "_________________________________________________________________\n",
      " Layer (type)                Output Shape              Param #   \n",
      "=================================================================\n",
      " input_states (InputLayer)   [(None, 4)]               0         \n",
      "                                                                 \n",
      " dense_4 (Dense)             (None, 12)                60        \n",
      "                                                                 \n",
      " output (Dense)              (None, 2)                 26        \n",
      "                                                                 \n",
      "=================================================================\n",
      "Total params: 86\n",
      "Trainable params: 86\n",
      "Non-trainable params: 0\n",
      "_________________________________________________________________\n"
     ]
    }
   ],
   "source": [
    "\n",
    "    agent = Agent()"
   ]
  }
 ],
 "metadata": {
  "kernelspec": {
   "display_name": "py3103",
   "language": "python",
   "name": "python3"
  },
  "language_info": {
   "codemirror_mode": {
    "name": "ipython",
    "version": 3
   },
   "file_extension": ".py",
   "mimetype": "text/x-python",
   "name": "python",
   "nbconvert_exporter": "python",
   "pygments_lexer": "ipython3",
   "version": "3.10.3"
  }
 },
 "nbformat": 4,
 "nbformat_minor": 5
}
