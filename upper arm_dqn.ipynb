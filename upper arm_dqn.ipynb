{
 "cells": [
  {
   "cell_type": "code",
   "execution_count": null,
   "id": "17468169",
   "metadata": {},
   "outputs": [],
   "source": [
    "import serial\n",
    "import numpy as np\n",
    "from scipy import signal\n",
    "from collections import deque\n",
    "import tensorflow as tf\n",
    "import matplotlib.pyplot as plt\n",
    "from tensorflow.keras.layers import Input, Dense\n",
    "from tensorflow.keras.optimizers import Adam\n",
    "import warnings\n",
    "warnings.filterwarnings(\"ignore\", category=DeprecationWarning)\n",
    "# ============================================================================================\n",
    "# ---configuration---\n",
    "# ============================================================================================\n",
    "SERIAL_PORT = 'COM6'\n",
    "BAUD_RATE = 9600\n",
    "NUM_CHANNELS = 6\n",
    "######################\n",
    "# 信号処理パラメータ\n",
    "######################\n",
    "SAMPLING_FREQUENCY = 1000\n",
    "WINDOW_SIZE = 2\n",
    "WINDOW_SIZE_SAMPLE = int(SAMPLING_FREQUENCY * WINDOW_SIZE)\n",
    "#   STFTパラメータ\n",
    "SEGMENT_LENGTH = 128\n",
    "OVERLAP_LENGTH = SEGMENT_LENGTH // 2\n",
    "#   Fitter パラメータ\n",
    "FILTER_ORDER = 4\n",
    "FILTER_CUTOFF = 15\n",
    "NYQUIST_FREQUNECY = 0.5 * SAMPLING_FREQUENCY\n",
    "######################\n",
    "#データ保存および可視化準備\n",
    "######################   \n",
    "data_buffer = [deque(maxlen = WINDOW_SIZE_SAMPLE) for _ in range(NUM_CHANNELS)]\n",
    "# Matplotlib設定\n",
    "plt.ion()\n",
    "flg, (signal_plot, spectrogram_plot) = plt.subplots(2, 1, figsize=(10, 8))\n",
    "signal_line_plot, = signal_plot.plot([], [])\n",
    "spectrogram_image_plot = spectrogram_plot\n",
    "\n",
    "\n"
   ]
  }
 ],
 "metadata": {
  "kernelspec": {
   "display_name": "py3103",
   "language": "python",
   "name": "python3"
  },
  "language_info": {
   "name": "python",
   "version": "3.10.3"
  }
 },
 "nbformat": 4,
 "nbformat_minor": 5
}
